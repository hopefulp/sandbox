{
 "cells": [
  {
   "cell_type": "markdown",
   "metadata": {},
   "source": [
    "# Energy Vs Cell Parameters Plotting\n",
    "Sort_Energy_CellPara.sh is a Shell and Python script.<br>\n",
    "It allows to extract and plot cell parameters ($a$, $b$ , $c$ and $volume$) as a function of energy from VASP OUTCAR File.<br>\n",
    "python packages need: pylab & scipy <br>\n",
    "\n",
    "[Script source](https://github.com/K4ys4r/VASP_Scripts/blob/master/Energy_CellParam/Sort_Energy_CellPara.sh)<br>\n",
    "\n",
    "## Usage\n",
    "Sort_Energy_CellPara.sh tackes a list of OUTCAR file name as input file.<br>\n",
    "In each **Calc_\\**** directory a SCF calcultaion has been performed for a defined cell parameters values.<br>\n",
    "To execute Sort_Energy_CellPara.sh, ones must create a file.txt which lists all outcar name and their path. It can be done as below:   \n",
    "```bash     \n",
    "        ls -C1 Calc_*/OUTCAR > list.txt\n",
    "```\n",
    "    \n",
    "- Print to terminal : "
   ]
  },
  {
   "cell_type": "code",
   "execution_count": 1,
   "metadata": {},
   "outputs": [
    {
     "name": "stdout",
     "output_type": "stream",
     "text": [
      "Calc_01/OUTCAR\n",
      "Calc_02/OUTCAR\n",
      "Calc_03/OUTCAR\n",
      "Calc_04/OUTCAR\n",
      "Calc_05/OUTCAR\n",
      "Calc_06/OUTCAR\n",
      "Calc_07/OUTCAR\n",
      "Calc_08/OUTCAR\n",
      "Calc_09/OUTCAR\n",
      "Calc_10/OUTCAR\n",
      "Calc_11/OUTCAR\n",
      "Calc_12/OUTCAR\n",
      "Calc_13/OUTCAR\n",
      "Calc_14/OUTCAR\n",
      "Calc_15/OUTCAR\n",
      "Calc_16/OUTCAR\n"
     ]
    }
   ],
   "source": [
    "%%bash\n",
    "ls -C1 Calc_*/OUTCAR"
   ]
  },
  {
   "cell_type": "markdown",
   "metadata": {},
   "source": [
    "- Create the list.txt file:"
   ]
  },
  {
   "cell_type": "code",
   "execution_count": 59,
   "metadata": {},
   "outputs": [],
   "source": [
    "%%bash\n",
    "ls -C1 Calc_*/OUTCAR > list.txt"
   ]
  },
  {
   "cell_type": "markdown",
   "metadata": {},
   "source": [
    "## Execution of Sort_Energy_CellPara.sh \n",
    "```bash\n",
    "./Sort_Energy_CellPara.sh \n",
    "\n",
    "List name which contains all OUTCAR Files names ? > list.txt\n",
    "                  OUTPUT file name to save data ? > data.out\n",
    "              X plot ( Energy, A, B, C or Vol ) ? > Vol \n",
    "              Y plot ( Energy, A, B, C or Vol ) ? > Energy \n",
    "         Calculate the Optimized Value (yes/no) ? > yes \n",
    "All Data are saved to file :  data.out\n",
    "```\n",
    "![E_Vol.png](E_vol.png)"
   ]
  }
 ],
 "metadata": {
  "kernelspec": {
   "display_name": "Python 3",
   "language": "python",
   "name": "python3"
  },
  "language_info": {
   "codemirror_mode": {
    "name": "ipython",
    "version": 3
   },
   "file_extension": ".py",
   "mimetype": "text/x-python",
   "name": "python",
   "nbconvert_exporter": "python",
   "pygments_lexer": "ipython3",
   "version": "3.5.2"
  }
 },
 "nbformat": 4,
 "nbformat_minor": 2
}
